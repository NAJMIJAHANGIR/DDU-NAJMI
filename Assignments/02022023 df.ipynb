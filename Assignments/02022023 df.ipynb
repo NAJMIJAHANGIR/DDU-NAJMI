{
 "cells": [
  {
   "cell_type": "code",
   "execution_count": 1,
   "id": "7c21c9df",
   "metadata": {},
   "outputs": [],
   "source": [
    "import numpy as np\n",
    "import pandas as pd\n",
    "import warnings\n",
    "warnings.filterwarnings(\"ignore\")"
   ]
  },
  {
   "cell_type": "code",
   "execution_count": 10,
   "id": "125ae61a",
   "metadata": {},
   "outputs": [
    {
     "data": {
      "text/html": [
       "<div>\n",
       "<style scoped>\n",
       "    .dataframe tbody tr th:only-of-type {\n",
       "        vertical-align: middle;\n",
       "    }\n",
       "\n",
       "    .dataframe tbody tr th {\n",
       "        vertical-align: top;\n",
       "    }\n",
       "\n",
       "    .dataframe thead th {\n",
       "        text-align: right;\n",
       "    }\n",
       "</style>\n",
       "<table border=\"1\" class=\"dataframe\">\n",
       "  <thead>\n",
       "    <tr style=\"text-align: right;\">\n",
       "      <th></th>\n",
       "      <th>NAME</th>\n",
       "      <th>Percentage</th>\n",
       "    </tr>\n",
       "  </thead>\n",
       "  <tbody>\n",
       "    <tr>\n",
       "      <th>0</th>\n",
       "      <td>Abhimanyu Ravi CR</td>\n",
       "      <td>86.67</td>\n",
       "    </tr>\n",
       "    <tr>\n",
       "      <th>1</th>\n",
       "      <td>Ajith TA</td>\n",
       "      <td>88.89</td>\n",
       "    </tr>\n",
       "    <tr>\n",
       "      <th>2</th>\n",
       "      <td>AKSHAY A</td>\n",
       "      <td>93.33</td>\n",
       "    </tr>\n",
       "    <tr>\n",
       "      <th>3</th>\n",
       "      <td>Alen Tom Shaji</td>\n",
       "      <td>95.56</td>\n",
       "    </tr>\n",
       "    <tr>\n",
       "      <th>4</th>\n",
       "      <td>Anand Anil</td>\n",
       "      <td>91.11</td>\n",
       "    </tr>\n",
       "  </tbody>\n",
       "</table>\n",
       "</div>"
      ],
      "text/plain": [
       "                NAME Percentage\n",
       "0  Abhimanyu Ravi CR      86.67\n",
       "1           Ajith TA      88.89\n",
       "2           AKSHAY A      93.33\n",
       "3     Alen Tom Shaji      95.56\n",
       "4         Anand Anil      91.11"
      ]
     },
     "execution_count": 10,
     "metadata": {},
     "output_type": "execute_result"
    }
   ],
   "source": [
    "student={'NAME':['Abhimanyu Ravi CR','Ajith TA','AKSHAY A','Alen Tom Shaji','Anand Anil','Ansal M T','ARUN KUMAR N','Aswin C S','DAVOOD NASSAR','HARIPRIYA.K.U','Indrajith Kk','Jishnu vs','Jishnuraj mp','Jopika','keerthi ravi','kiran k s','LUBNA NIZAR','Mancy Mamachan','merlin p m','Mohammed Safeer','Muhammed Siraj k','Nandakrishnan N','NAJMI JAHANGIR','Nida Musthafa','RAHUL N','Ramshad TA','Sanika Sajeevan','Sanoy K M','shammas n m','Smijith CS','Sneha Shaji','soorya.s. nair','SWATHI AS','vidhya ag','Vishnu Mukundan'],\n",
    "         'Percentage':[86.67,88.89,93.33,95.56,91.11,97.78,86.67,82.22,88.89,91.11,84.44,88.89,84.44,82.22,91.11,97.78,88.89,91.11,88.89,86.67,95.56,'Absent',84.44,88.89,91.11,97.78,93.33,86.67,91.11,82.22,77.78,88.89,91.11,88.89,91.11 ]\n",
    "        }\n",
    "df=pd.DataFrame(student)\n",
    "df.head()"
   ]
  },
  {
   "cell_type": "code",
   "execution_count": 8,
   "id": "41ef8d1c",
   "metadata": {},
   "outputs": [
    {
     "data": {
      "text/plain": [
       "35"
      ]
     },
     "execution_count": 8,
     "metadata": {},
     "output_type": "execute_result"
    }
   ],
   "source": [
    "l=['Abhimanyu Ravi CR','Ajith TA','AKSHAY A','Alen Tom Shaji','Anand Anil','Ansal M T','ARUN KUMAR N','Aswin C S','DAVOOD NASSAR','HARIPRIYA.K.U','Indrajith Kk','Jishnu vs','Jishnuraj mp','Jopika','keerthi ravi','kiran k s','LUBNA NIZAR','Mancy Mamachan','merlin p m','Mohammed Safeer','Muhammed Siraj k','Nandakrishnan N','NAJMI JAHANGIR','Nida Musthafa','RAHUL N','Ramshad TA','Sanika Sajeevan','Sanoy K M','shammas n m','Smijith CS','Sneha Shaji','soorya.s. nair','SWATHI AS','vidhya ag','Vishnu Mukundan']\n",
    "len(l)"
   ]
  },
  {
   "cell_type": "code",
   "execution_count": 9,
   "id": "d5b82d2d",
   "metadata": {},
   "outputs": [
    {
     "data": {
      "text/plain": [
       "35"
      ]
     },
     "execution_count": 9,
     "metadata": {},
     "output_type": "execute_result"
    }
   ],
   "source": [
    "k=[86.67,88.89,93.33,95.56,91.11,97.78,86.67,82.22,88.89,91.11,84.44,88.89,84.44,82.22,91.11,97.78,88.89,91.11,88.89,86.67,95.56,'Absent',84.44,88.89,91.11,97.78,93.33,86.67,91.11,82.22,77.78,88.89,91.11,88.89,91.11 ]\n",
    "len(k)"
   ]
  },
  {
   "cell_type": "code",
   "execution_count": null,
   "id": "a484d8ec",
   "metadata": {},
   "outputs": [],
   "source": []
  }
 ],
 "metadata": {
  "kernelspec": {
   "display_name": "Python 3 (ipykernel)",
   "language": "python",
   "name": "python3"
  },
  "language_info": {
   "codemirror_mode": {
    "name": "ipython",
    "version": 3
   },
   "file_extension": ".py",
   "mimetype": "text/x-python",
   "name": "python",
   "nbconvert_exporter": "python",
   "pygments_lexer": "ipython3",
   "version": "3.9.13"
  }
 },
 "nbformat": 4,
 "nbformat_minor": 5
}
